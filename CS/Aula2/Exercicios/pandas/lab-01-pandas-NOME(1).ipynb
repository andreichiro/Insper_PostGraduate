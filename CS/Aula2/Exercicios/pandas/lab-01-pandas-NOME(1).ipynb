{
 "cells": [
  {
   "cell_type": "markdown",
   "id": "40ef4882-64c0-4389-9e0f-a3035b519874",
   "metadata": {},
   "source": [
    "![Insper](https://github.com/danielscarvalho/Insper-DS-Dicas/blob/master/Insper-Logo.png?raw=true)\n",
    "\n",
    "# Programa Avançado em Data Science e Decisão [»](https://www.insper.edu.br/pos-graduacao/programas-avancados/data-science-e-decisao/)"
   ]
  },
  {
   "cell_type": "markdown",
   "id": "4fe22760-18b8-47e4-aee3-22e1bfcec85c",
   "metadata": {},
   "source": [
    "## Computação para a Ciência dos Dados - LAB 01 (Pandas)\n",
    "\n",
    "Faça a lista abaixo para praticar programação em Python. Utilize os conceitos vistos na Aula 01 e Aula 02, dicas abaixo e consulte documentações de Python na internet (bibliografia) sugerida... Em caso de dúvidas, contate o Prof. Thanuci Silva. \n",
    "\n",
    "**Entrega**: via Blackboard - IMPORTANTE: renomeie o notebook incluindo seu nome! "
   ]
  },
  {
   "cell_type": "code",
   "execution_count": 1,
   "id": "c3de2959-109f-4ca6-8124-ed438c45870c",
   "metadata": {},
   "outputs": [],
   "source": [
    "import pandas as pd\n",
    "import matplotlib.pyplot as plt\n",
    "\n",
    "# Carregar o arquivo CSV\n",
    "file_path = 'coffee_consumption_india.csv'  # Certifique-se de que o arquivo está no diretório correto\n",
    "df = pd.read_csv(file_path)\n"
   ]
  },
  {
   "cell_type": "markdown",
   "id": "d07e51e6-ce1c-46ff-922b-739f38eab3cd",
   "metadata": {},
   "source": [
    "## 1. Exibir as primeiras linhas do dataset\n"
   ]
  },
  {
   "cell_type": "markdown",
   "id": "71348901-a877-4077-bda0-b18005bad6a1",
   "metadata": {},
   "source": [
    "## 2. Informações gerais sobre os dados\n"
   ]
  },
  {
   "cell_type": "markdown",
   "id": "5504a517-69ac-404a-b073-67f424b4b7b4",
   "metadata": {},
   "source": [
    "## 3. Verificar valores ausentes\n"
   ]
  },
  {
   "cell_type": "markdown",
   "id": "9464289e-1c11-4429-b306-9e7139505563",
   "metadata": {},
   "source": [
    "## 4. Lista de estados únicos\n"
   ]
  },
  {
   "cell_type": "markdown",
   "id": "565d66e1-98bc-4b1d-a3a0-ce2303783328",
   "metadata": {},
   "source": [
    "## 5. Número de cidades únicas\n"
   ]
  },
  {
   "cell_type": "markdown",
   "id": "f5269019-90ea-43c3-a43c-53b8bfdfd8bf",
   "metadata": {},
   "source": [
    "## 6. Lista de cidades únicas (exibir apenas as 10 primeiras)\n"
   ]
  },
  {
   "cell_type": "markdown",
   "id": "07a965cf-e77e-49b5-bad0-046fc41205b8",
   "metadata": {},
   "source": [
    "## 7. Estatísticas descritivas para colunas numéricas\n"
   ]
  },
  {
   "cell_type": "markdown",
   "id": "56748fe4-f47e-4c10-9ce9-8f9819b7789e",
   "metadata": {},
   "source": [
    "## Perguntas e Respostas em Código\n",
    "\n",
    "## 8. Qual é o estado com maior consumo de café?\n"
   ]
  },
  {
   "cell_type": "markdown",
   "id": "9e149450-5fc8-4be0-a7bc-62e9eaf92764",
   "metadata": {},
   "source": [
    "## 9. Quantas pessoas preferem cada tipo de café?"
   ]
  },
  {
   "cell_type": "markdown",
   "id": "e42610d4-d5af-46f1-ad88-42b677898aac",
   "metadata": {},
   "source": [
    "## 10. Qual a média de xícaras de café consumidas por faixa etária?"
   ]
  },
  {
   "cell_type": "markdown",
   "id": "d9e55d1f-24fe-4209-bf3c-8567ca168207",
   "metadata": {},
   "source": [
    "## 11. Qual a média de gasto mensal com café por estado?"
   ]
  },
  {
   "cell_type": "markdown",
   "id": "64b2effd-6d55-474f-ab10-79b9de9ce2f4",
   "metadata": {},
   "source": [
    "## 12. Qual a distribuição do número de xícaras consumidas por dia?"
   ]
  },
  {
   "cell_type": "markdown",
   "id": "7ecb4172-d39d-4921-af33-fe31d393e347",
   "metadata": {},
   "source": [
    "## 13. Qual a marca de café preferida pelos consumidores?"
   ]
  },
  {
   "cell_type": "markdown",
   "id": "b00b8121-ad8c-4e32-aa64-c6f87e591aa8",
   "metadata": {},
   "source": [
    "## 14. As pessoas que visitam cafés frequentemente gastam mais?"
   ]
  },
  {
   "cell_type": "markdown",
   "id": "f9f8c053-29c7-4951-ab2d-62c75085c336",
   "metadata": {},
   "source": [
    "## 15. Gerar gráficos histograma (questão livre)"
   ]
  },
  {
   "cell_type": "markdown",
   "id": "5d6bf26f-e35d-4915-ad93-963222c9fad8",
   "metadata": {},
   "source": [
    "## 16. Gerar gráficos scatter (questão livre)"
   ]
  },
  {
   "cell_type": "markdown",
   "id": "efdd55da-f55a-45e2-b5c0-23706f73405c",
   "metadata": {},
   "source": [
    "> Compartilhar com os colegas os gráficos de histograma e scatter, e explicar o que se observa no gráfico (qual a questão que ele responde)"
   ]
  },
  {
   "cell_type": "markdown",
   "id": "2b43acde-8d09-46c0-95af-8e32d0b6f8c6",
   "metadata": {},
   "source": [
    "### EXTRA: Explorar dados do mundo real...\n",
    "\n",
    "Dados econômicos do World Bank:\n",
    "\n",
    "- Income level: Upper middle income\n",
    "- Region: Latin America & Caribbean\n",
    "\n",
    "Fonte: https://data.worldbank.org/country/BR"
   ]
  },
  {
   "cell_type": "markdown",
   "id": "da2ba145-d793-4dbd-a76f-6ed122d70716",
   "metadata": {},
   "source": [
    "Em caso de erro... instalar a dependência requerida, conforme indicado na mensagem de erro...\n",
    "\n",
    "> ImportError: Missing optional dependency 'xlrd'. Install xlrd >= 2.0.1 for xls Excel support Use pip or conda to install xlrd.\n",
    "\n",
    "Executar no terminal, UI linha de comando:\n",
    "\n",
    "```python\n",
    "pip install xldr\n",
    "```"
   ]
  },
  {
   "cell_type": "code",
   "execution_count": 35,
   "id": "0333e2af-78f0-4d7a-9adc-7bbc95eaa9f6",
   "metadata": {},
   "outputs": [],
   "source": [
    "import pandas as pd\n",
    "\n",
    "WORLD_URL=\"https://api.worldbank.org/v2/en/country/BRA?downloadformat=excel\"\n",
    "world_df = pd.read_excel(WORLD_URL, header=3)"
   ]
  },
  {
   "cell_type": "code",
   "execution_count": null,
   "id": "12b9bee4-972b-4e31-ace2-cf0d693b34d4",
   "metadata": {},
   "outputs": [],
   "source": [
    "world_df.sample(10)"
   ]
  },
  {
   "cell_type": "code",
   "execution_count": null,
   "id": "25f6c296-ad9a-4f92-9d1b-7324c90b65da",
   "metadata": {
    "scrolled": true
   },
   "outputs": [],
   "source": [
    "world_df.sample(2).T"
   ]
  },
  {
   "cell_type": "code",
   "execution_count": null,
   "id": "2bb251fd-9462-44e6-bef6-0db37a08d98c",
   "metadata": {
    "scrolled": true
   },
   "outputs": [],
   "source": [
    "world_df[\"Indicator Name\"]"
   ]
  },
  {
   "cell_type": "code",
   "execution_count": null,
   "id": "2c02cc79-aa91-4d2c-9ff8-5a99b009e597",
   "metadata": {},
   "outputs": [],
   "source": []
  }
 ],
 "metadata": {
  "kernelspec": {
   "display_name": "base",
   "language": "python",
   "name": "python3"
  },
  "language_info": {
   "codemirror_mode": {
    "name": "ipython",
    "version": 3
   },
   "file_extension": ".py",
   "mimetype": "text/x-python",
   "name": "python",
   "nbconvert_exporter": "python",
   "pygments_lexer": "ipython3",
   "version": "3.11.7 | packaged by Anaconda, Inc. | (main, Dec 15 2023, 18:05:47) [MSC v.1916 64 bit (AMD64)]"
  },
  "vscode": {
   "interpreter": {
    "hash": "ad2bdc8ecc057115af97d19610ffacc2b4e99fae6737bb82f5d7fb13d2f2c186"
   }
  }
 },
 "nbformat": 4,
 "nbformat_minor": 5
}
