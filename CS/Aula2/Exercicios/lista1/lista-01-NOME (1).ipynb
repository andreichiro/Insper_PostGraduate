{
 "cells": [
  {
   "cell_type": "markdown",
   "metadata": {},
   "source": [
    "![Insper](https://github.com/danielscarvalho/Insper-DS-Dicas/blob/master/Insper-Logo.png?raw=true)\n",
    "\n",
    "# Programa Avançado em Data Science e Decisão [»](https://www.insper.edu.br/pos-graduacao/programas-avancados/data-science-e-decisao/)"
   ]
  },
  {
   "cell_type": "markdown",
   "metadata": {},
   "source": [
    "## Computação para a Ciência dos Dados - Lista 01\n",
    "\n",
    "Faça a lista abaixo para praticar programação em Python. Utilize os conceitos vistos na Aula 01, dicas abaixo e consulte documentações de Python na internet (bibliografia) sugerida.. Em caso de dúvidas, contate o Prof. Thanuci Silva. \n",
    "\n",
    "**Entrega**: via Blackboard - IMPORTANTE: renomeie o notebook incluindo seu nome! "
   ]
  },
  {
   "cell_type": "markdown",
   "metadata": {},
   "source": [
    "## 01 - Variáveis\n",
    "Crie duas variáveis, uma para salvar sua idade e outra para salvar seu nome completo. Depois, utilize o `print()` para imprimir a mensagem \"Olá, meu nome é _seu nome_ , tenho _sua idade_ anos.\". Importante: o texto precisa ser preenchido utilizando as variáveis criadas."
   ]
  },
  {
   "cell_type": "markdown",
   "metadata": {},
   "source": [
    "## 02 - Calculando médias\n",
    "\n",
    "Escreva um programa que calcula e retorna a média de uma lista de idades. Você **não** pode usar as funções prontas de Python como `sum()`. "
   ]
  },
  {
   "cell_type": "code",
   "execution_count": 4,
   "metadata": {},
   "outputs": [],
   "source": [
    "idades = [20, 21, 20, 22, 19, 18, 14, 35] # Deve retornar 21.125"
   ]
  },
  {
   "cell_type": "markdown",
   "metadata": {},
   "source": [
    "## 03 - Soma de inteiros \n",
    "Faça um programa que leia 4 números inteiros, armazene-os em uma lista, imprima a lista e a soma dos valores. Não utilize funções prontas do Python para realizar a soma.\n",
    "\n",
    "**Dica**: estude o funcionamento da função `input()` e das conversões de tipos de dados de strings para números."
   ]
  },
  {
   "cell_type": "markdown",
   "metadata": {},
   "source": [
    "## 04 - List Comprehension\n",
    "Crie uma _List Comprehension_ para gerar uma lista com os quadrados PARES dos números inteiros de 0 até n, sendo que n é o valor de uma variável. \n",
    "\n",
    "Ex: `n = 10`, deve gerar a lista `[0, 4, 16, 36, 64, 100]`"
   ]
  },
  {
   "cell_type": "markdown",
   "metadata": {},
   "source": [
    "## 05 - Pirâmide \n",
    "\n",
    "Dado um inteiro _n_ informado pelo usuário, faça um programa para imprimir a seguinte estrutura até a _n_-ésima linha.\n",
    "\n",
    "    1\n",
    "    2   2\n",
    "    3   3   3\n",
    "    .....\n",
    "    n   n   n   n   n   n  ... n"
   ]
  },
  {
   "cell_type": "markdown",
   "metadata": {},
   "source": [
    "### 2. Quantos produtos foram comprados? Se representar uma fração, considere um único produto   \n"
   ]
  },
  {
   "cell_type": "markdown",
   "metadata": {},
   "source": [
    "### 2. Quantos produtos foram comprados? Se representar uma fração, considere um único produto   \n"
   ]
  },
  {
   "cell_type": "markdown",
   "metadata": {},
   "source": [
    "## 06 - Loja de tintas\n",
    "\n",
    "Faça um programa para uma loja de tintas. O programa deverá pedir o tamanho em metros quadrados da área a ser pintada. Considere que a cobertura da tinta é de 1 litro para cada 3 metros quadrados e que a tinta é vendida em latas de 18 litros, que custam R$ 80,00. Informe ao usuário a quantidades de latas de tinta a serem compradas e o preço total."
   ]
  },
  {
   "cell_type": "markdown",
   "metadata": {},
   "source": [
    "\n",
    "## 07 - Palíndromos\n",
    "\n",
    "Um palíndromo é uma sequência de caracteres cuja leitura é idêntica se feita da direita para esquerda ou vice−versa. Por exemplo: `OSSO` e `OVO` são palíndromos. Em textos mais complexos os espaços e pontuação são ignorados. A frase `SUBI NO ONIBUS` é o exemplo de uma frase palíndroma onde os espaços foram ignorados. Faça um programa que leia uma string, mostre−a e diga se é um palíndromo ou não."
   ]
  },
  {
   "cell_type": "markdown",
   "metadata": {},
   "source": [
    "## 08 - Lista de compras\n",
    "Utilizando o arquivo `supermercado.csv` anexado, complete o programa abaixo para responder aos seguintes desafios: \n",
    "\n",
    "1. Qual o valor total da compra? \n",
    "2. Quantos produtos foram comprados? Se representar uma fração, considere um único produto\n",
    "3. Qual o produto mais caro (em termos de valor unitário)?\n",
    "\n",
    "_Importante_ : você não pode usar bibliotecas auxiliares como Pandas ou similares. Aproveite para exercitar os comandos básicos do Python!\n",
    "\n",
    "_Estrutura do arquivo_ : para cada linha temos PRODUTO;QUANTIDADE;PRECO UNIT. (R$). Exemplo: Achocolatado;2;5.89\n",
    "\n",
    "_Dica_ : antes de seguir o código abaixo, verifique o conteúdo da variável `lines` e faça as adaptações necessárias "
   ]
  },
  {
   "cell_type": "code",
   "execution_count": 52,
   "metadata": {},
   "outputs": [],
   "source": [
    "# Leitura do conteúdo do arquivo\n",
    "f = open(\"supermercado.csv\", 'r')\n",
    "lines = f.readlines()\n",
    "f.close()\n",
    "\n",
    "# Gera uma matriz de informações, cada produto numa linha, cada info numa coluna\n",
    "# Aqui você terá que converter os tipos de dados de acordo o formato da informação da lista (int, double ou string)\n",
    "# Continue...\n",
    "\n",
    "matriz = []\n",
    "\n",
    "total = 0\n",
    "produto_mais_caro = ['', 0.0]\n",
    "\n"
   ]
  },
  {
   "cell_type": "markdown",
   "metadata": {},
   "source": [
    "### 1. Qual o valor total da compra?\n"
   ]
  },
  {
   "cell_type": "markdown",
   "metadata": {},
   "source": [
    "### 2. Quantos produtos foram comprados? Se representar uma fração, considere um único produto   \n"
   ]
  },
  {
   "cell_type": "markdown",
   "metadata": {},
   "source": [
    "### 3. valor calculado da compra considerando que os produtos fracionados são 1 único produto \n"
   ]
  },
  {
   "cell_type": "markdown",
   "metadata": {},
   "source": [
    "### 2. Quantos produtos foram comprados? Se representar uma fração, considere um único produto   \n"
   ]
  },
  {
   "cell_type": "markdown",
   "metadata": {},
   "source": [
    "### 2. Quantos produtos foram comprados? Se representar uma fração, considere um único produto   \n"
   ]
  },
  {
   "cell_type": "markdown",
   "metadata": {},
   "source": [
    "### 2. Quantos produtos foram comprados? Se representar uma fração, considere um único produto   \n"
   ]
  },
  {
   "cell_type": "markdown",
   "metadata": {},
   "source": [
    "## 09 - IA - Is Prime\n",
    "\n",
    "Utilizando um LLM (ChatGPT, Copilot, Grok, Llama, etc...), crie uma função chamada `is_prime(n)` para verificar se um dado número inteiro é primo.\n",
    "\n",
    "Crie uma lista com os 100 primeiros números primos validados pela função criada por IA."
   ]
  },
  {
   "cell_type": "markdown",
   "metadata": {},
   "source": [
    "## 10 - IA - Geração de dados\n",
    "\n",
    "Utilizando um LLM (ChatGPT, Copilot, Grok, Llama, etc...), criar um arquivo CSV com os dados:\n",
    "\n",
    "Colunas: País, GDP, Território, População, População com nível superior<br>\n",
    "Linhas: Brasil, EUA, Mexico, Alemanha, França, OCDE, G20, América do Sul\n",
    "\n",
    "Importar o CSV no data frame Pandas e verificar as relações entre GDP e formação superior. \n",
    "\n",
    "Utilizar neste caso 2 LLMs diferentes e comparar o valor, houve alucinação na geração dos dados??"
   ]
  },
  {
   "cell_type": "markdown",
   "metadata": {},
   "source": [
    "> Lembre-se de fazer os exercícios no final do notebook da Aula 01"
   ]
  }
 ],
 "metadata": {
  "kernelspec": {
   "display_name": "Python 3 (ipykernel)",
   "language": "python",
   "name": "python3"
  },
  "language_info": {
   "codemirror_mode": {
    "name": "ipython",
    "version": 3
   },
   "file_extension": ".py",
   "mimetype": "text/x-python",
   "name": "python",
   "nbconvert_exporter": "python",
   "pygments_lexer": "ipython3",
   "version": "3.11.5"
  }
 },
 "nbformat": 4,
 "nbformat_minor": 4
}
